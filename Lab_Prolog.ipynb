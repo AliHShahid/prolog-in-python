{
  "nbformat": 4,
  "nbformat_minor": 0,
  "metadata": {
    "colab": {
      "provenance": [],
      "gpuType": "T4"
    },
    "kernelspec": {
      "name": "python3",
      "display_name": "Python 3"
    },
    "language_info": {
      "name": "python"
    },
    "accelerator": "GPU"
  },
  "cells": [
    {
      "cell_type": "code",
      "source": [
        "!pip install pyswip"
      ],
      "metadata": {
        "colab": {
          "base_uri": "https://localhost:8080/"
        },
        "id": "ITAs6IWO7AlI",
        "outputId": "cba5a3e8-d9e2-4363-8113-0cef2fac5c2a"
      },
      "execution_count": 1,
      "outputs": [
        {
          "output_type": "stream",
          "name": "stdout",
          "text": [
            "Requirement already satisfied: pyswip in /usr/local/lib/python3.11/dist-packages (0.3.2)\n"
          ]
        }
      ]
    },
    {
      "cell_type": "code",
      "source": [
        "!sudo apt-get install -y swi-prolog"
      ],
      "metadata": {
        "colab": {
          "base_uri": "https://localhost:8080/"
        },
        "id": "5geGoqXv7l1D",
        "outputId": "a5a05665-11bc-49cb-9439-170f64bfac95"
      },
      "execution_count": 2,
      "outputs": [
        {
          "output_type": "stream",
          "name": "stdout",
          "text": [
            "Reading package lists... Done\n",
            "Building dependency tree... Done\n",
            "Reading state information... Done\n",
            "swi-prolog is already the newest version (8.4.2+dfsg-2ubuntu1).\n",
            "0 upgraded, 0 newly installed, 0 to remove and 34 not upgraded.\n"
          ]
        }
      ]
    },
    {
      "cell_type": "code",
      "execution_count": 3,
      "metadata": {
        "colab": {
          "base_uri": "https://localhost:8080/"
        },
        "id": "0aCDz4l367la",
        "outputId": "b0f2ef3a-d5b5-44ff-8922-7d817d5d5974"
      },
      "outputs": [
        {
          "output_type": "stream",
          "name": "stdout",
          "text": [
            "Checking if 2 is in the list [1,2,3]:\n",
            "Result: {}\n",
            "\n",
            "Generating all members of [1,2,3]:\n",
            "X = 1\n",
            "X = 2\n",
            "X = 3\n"
          ]
        }
      ],
      "source": [
        "from pyswip import Prolog\n",
        "\n",
        "prolog = Prolog()\n",
        "\n",
        "# Membership rule\n",
        "prolog.assertz(\"member(X, [X|_])\")\n",
        "prolog.assertz(\"member(X, [_|T]) :- member(X, T)\")\n",
        "\n",
        "# Query membership\n",
        "print(\"Checking if 2 is in the list [1,2,3]:\")\n",
        "for result in prolog.query(\"member(2, [1,2,3])\", maxresult=1):\n",
        "    print(\"Result:\", result)\n",
        "\n",
        "# Generate all members\n",
        "print(\"\\nGenerating all members of [1,2,3]:\")\n",
        "for result in prolog.query(\"member(X, [1,2,3])\"):\n",
        "    print(\"X =\", result[\"X\"])"
      ]
    },
    {
      "cell_type": "code",
      "source": [
        "# Weather comparison\n",
        "prolog.assertz(\"weather(phoenix, hot, summer)\")\n",
        "prolog.assertz(\"weather(la, warm, summer)\")\n",
        "prolog.assertz(\"warmer_than(C1, C2) :- weather(C1, hot, summer), weather(C2, warm, summer)\")\n",
        "print(\"\\nCities that are warmer:\")\n",
        "for r in prolog.query(\"warmer_than(C1, C2)\"):\n",
        "  print(f\"{r['C1']} is warmer than {r['C2']}\")"
      ],
      "metadata": {
        "colab": {
          "base_uri": "https://localhost:8080/"
        },
        "id": "Nbq7DCn87KHm",
        "outputId": "964845b4-0817-49c9-c97c-ae93595a50db"
      },
      "execution_count": 4,
      "outputs": [
        {
          "output_type": "stream",
          "name": "stdout",
          "text": [
            "\n",
            "Cities that are warmer:\n",
            "phoenix is warmer than la\n"
          ]
        }
      ]
    },
    {
      "cell_type": "code",
      "source": [
        "# Family knowledge base\n",
        "prolog.assertz(\"parent(tom, john)\")\n",
        "prolog.assertz(\"parent(tom, mary)\")\n",
        "prolog.assertz(\"parent(ann, john)\")\n",
        "prolog.assertz(\"parent(ann, mary)\")\n",
        "prolog.assertz(\"male(tom)\")\n",
        "prolog.assertz(\"male(john)\")\n",
        "prolog.assertz(\"female(mary)\")\n",
        "prolog.assertz(\"female(ann)\")\n",
        "prolog.assertz(\"father(X, Y) :- parent(X, Y), male(X)\")\n",
        "prolog.assertz(\"mother(X, Y) :- parent(X, Y), female(X)\")\n",
        "# Who is John's father?\n",
        "print(\"\\nWho is John's father?\")\n",
        "for r in prolog.query(\"father(X, john)\"):\n",
        "  print(\"Father:\", r[\"X\"])\n",
        "\n",
        "# Custom display\n",
        "print(\"\\nFormatted output of parent relations:\")\n",
        "for r in prolog.query(\"parent(X, Y)\"):\n",
        "  print(f\"{r['X']} is a parent of {r['Y']}\")\n",
        "\n",
        "prolog.assertz(\"grandparent(X,Y) :- parent(X,Z), parent(Z,Y)\")\n",
        "prolog.assertz(\"sibling(X,Y) :- parent(Z,X), parent(Z,Y), X \\\\= Y\")\n",
        "prolog.assertz(\"brother(X,Y) :- sibling(X,Y), male(X)\")\n",
        "prolog.assertz(\"uncle(X,Y) :- brother(X,Z), parent(Z,Y)\")\n",
        "print(\"\\nAll uncles of john:\")\n",
        "for r in prolog.query(\"uncle(X, john)\"):\n",
        "  print(\"Uncle:\", r[\"X\"])"
      ],
      "metadata": {
        "colab": {
          "base_uri": "https://localhost:8080/"
        },
        "id": "GaIw1li49KUX",
        "outputId": "ef0048f0-10f8-4edf-ace2-66df1773b84a"
      },
      "execution_count": 5,
      "outputs": [
        {
          "output_type": "stream",
          "name": "stdout",
          "text": [
            "\n",
            "Who is John's father?\n",
            "Father: tom\n",
            "\n",
            "Formatted output of parent relations:\n",
            "tom is a parent of john\n",
            "tom is a parent of mary\n",
            "ann is a parent of john\n",
            "ann is a parent of mary\n",
            "\n",
            "All uncles of john:\n"
          ]
        }
      ]
    }
  ]
}